{
 "cells": [
  {
   "cell_type": "markdown",
   "id": "ce49c307",
   "metadata": {},
   "source": [
    "# Lab | Handling Data Imbalance in Classification Models"
   ]
  },
  {
   "cell_type": "markdown",
   "id": "a532b3a0",
   "metadata": {},
   "source": [
    "For this lab and in the next lessons we will build a model on customer churn binary classification problem. You will be using files_for_lab/Customer-Churn.csv file.\n",
    "\n",
    "### Scenario\n",
    "\n",
    "You are working as an analyst with this internet service provider. You are provided with this historical data about your company's customers and their churn trends. Your task is to build a machine learning model that will help the company identify customers that are more likely to default/churn and thus prevent losses from such customers.\n",
    "\n",
    "### Instructions\n",
    "\n",
    "In this lab, we will first take a look at the degree of imbalance in the data and correct it using the techniques we learned on the class.\n",
    "\n",
    "Here is the list of steps to be followed (building a simple model without balancing the data):\n",
    "\n",
    "\n",
    "   * Import the required libraries and modules that you would need.\n",
    "   * Read that data into Python and call the dataframe `churnData`.\n",
    "   * Check the datatypes of all the columns in the data. You would see that the column `TotalCharges` is object type. Convert this column into numeric type using pd.to_numeric function.\n",
    "  * Check for null values in the dataframe. Replace the null values.\n",
    "  * Use the following features: `tenure`, `SeniorCitizen`, `MonthlyCharges` and `TotalCharges`:\n",
    "       * Scale the features either by using normalizer or a standard scaler.\n",
    "       * Split the data into a training set and a test set.\n",
    "       * Fit a logistic regression model on the training data.\n",
    "       * Check the accuracy on the test data.\n",
    "       \n",
    "Note: So far we have not balanced the data.\n",
    "\n",
    "Managing imbalance in the dataset\n",
    "\n",
    "  *  Check for the imbalance.\n",
    "  *  Use the resampling strategies used in class for upsampling and downsampling to create a balance between the two classes.\n",
    "  *  Each time fit the model and see how the accuracy of the model is."
   ]
  },
  {
   "cell_type": "markdown",
   "id": "56f15558",
   "metadata": {},
   "source": [
    "# Importing Basic Libraries"
   ]
  },
  {
   "cell_type": "code",
   "execution_count": 1,
   "id": "796b2e62",
   "metadata": {},
   "outputs": [],
   "source": [
    "import pandas as pd\n",
    "import numpy as np\n",
    "import matplotlib.pyplot as plt"
   ]
  },
  {
   "cell_type": "code",
   "execution_count": 2,
   "id": "1aaac912",
   "metadata": {},
   "outputs": [
    {
     "data": {
      "text/html": [
       "<div>\n",
       "<style scoped>\n",
       "    .dataframe tbody tr th:only-of-type {\n",
       "        vertical-align: middle;\n",
       "    }\n",
       "\n",
       "    .dataframe tbody tr th {\n",
       "        vertical-align: top;\n",
       "    }\n",
       "\n",
       "    .dataframe thead th {\n",
       "        text-align: right;\n",
       "    }\n",
       "</style>\n",
       "<table border=\"1\" class=\"dataframe\">\n",
       "  <thead>\n",
       "    <tr style=\"text-align: right;\">\n",
       "      <th></th>\n",
       "      <th>gender</th>\n",
       "      <th>SeniorCitizen</th>\n",
       "      <th>Partner</th>\n",
       "      <th>Dependents</th>\n",
       "      <th>tenure</th>\n",
       "      <th>PhoneService</th>\n",
       "      <th>OnlineSecurity</th>\n",
       "      <th>OnlineBackup</th>\n",
       "      <th>DeviceProtection</th>\n",
       "      <th>TechSupport</th>\n",
       "      <th>StreamingTV</th>\n",
       "      <th>StreamingMovies</th>\n",
       "      <th>Contract</th>\n",
       "      <th>MonthlyCharges</th>\n",
       "      <th>TotalCharges</th>\n",
       "      <th>Churn</th>\n",
       "    </tr>\n",
       "  </thead>\n",
       "  <tbody>\n",
       "    <tr>\n",
       "      <th>0</th>\n",
       "      <td>Female</td>\n",
       "      <td>0</td>\n",
       "      <td>Yes</td>\n",
       "      <td>No</td>\n",
       "      <td>1</td>\n",
       "      <td>No</td>\n",
       "      <td>No</td>\n",
       "      <td>Yes</td>\n",
       "      <td>No</td>\n",
       "      <td>No</td>\n",
       "      <td>No</td>\n",
       "      <td>No</td>\n",
       "      <td>Month-to-month</td>\n",
       "      <td>29.85</td>\n",
       "      <td>29.85</td>\n",
       "      <td>No</td>\n",
       "    </tr>\n",
       "    <tr>\n",
       "      <th>1</th>\n",
       "      <td>Male</td>\n",
       "      <td>0</td>\n",
       "      <td>No</td>\n",
       "      <td>No</td>\n",
       "      <td>34</td>\n",
       "      <td>Yes</td>\n",
       "      <td>Yes</td>\n",
       "      <td>No</td>\n",
       "      <td>Yes</td>\n",
       "      <td>No</td>\n",
       "      <td>No</td>\n",
       "      <td>No</td>\n",
       "      <td>One year</td>\n",
       "      <td>56.95</td>\n",
       "      <td>1889.5</td>\n",
       "      <td>No</td>\n",
       "    </tr>\n",
       "    <tr>\n",
       "      <th>2</th>\n",
       "      <td>Male</td>\n",
       "      <td>0</td>\n",
       "      <td>No</td>\n",
       "      <td>No</td>\n",
       "      <td>2</td>\n",
       "      <td>Yes</td>\n",
       "      <td>Yes</td>\n",
       "      <td>Yes</td>\n",
       "      <td>No</td>\n",
       "      <td>No</td>\n",
       "      <td>No</td>\n",
       "      <td>No</td>\n",
       "      <td>Month-to-month</td>\n",
       "      <td>53.85</td>\n",
       "      <td>108.15</td>\n",
       "      <td>Yes</td>\n",
       "    </tr>\n",
       "    <tr>\n",
       "      <th>3</th>\n",
       "      <td>Male</td>\n",
       "      <td>0</td>\n",
       "      <td>No</td>\n",
       "      <td>No</td>\n",
       "      <td>45</td>\n",
       "      <td>No</td>\n",
       "      <td>Yes</td>\n",
       "      <td>No</td>\n",
       "      <td>Yes</td>\n",
       "      <td>Yes</td>\n",
       "      <td>No</td>\n",
       "      <td>No</td>\n",
       "      <td>One year</td>\n",
       "      <td>42.30</td>\n",
       "      <td>1840.75</td>\n",
       "      <td>No</td>\n",
       "    </tr>\n",
       "    <tr>\n",
       "      <th>4</th>\n",
       "      <td>Female</td>\n",
       "      <td>0</td>\n",
       "      <td>No</td>\n",
       "      <td>No</td>\n",
       "      <td>2</td>\n",
       "      <td>Yes</td>\n",
       "      <td>No</td>\n",
       "      <td>No</td>\n",
       "      <td>No</td>\n",
       "      <td>No</td>\n",
       "      <td>No</td>\n",
       "      <td>No</td>\n",
       "      <td>Month-to-month</td>\n",
       "      <td>70.70</td>\n",
       "      <td>151.65</td>\n",
       "      <td>Yes</td>\n",
       "    </tr>\n",
       "    <tr>\n",
       "      <th>...</th>\n",
       "      <td>...</td>\n",
       "      <td>...</td>\n",
       "      <td>...</td>\n",
       "      <td>...</td>\n",
       "      <td>...</td>\n",
       "      <td>...</td>\n",
       "      <td>...</td>\n",
       "      <td>...</td>\n",
       "      <td>...</td>\n",
       "      <td>...</td>\n",
       "      <td>...</td>\n",
       "      <td>...</td>\n",
       "      <td>...</td>\n",
       "      <td>...</td>\n",
       "      <td>...</td>\n",
       "      <td>...</td>\n",
       "    </tr>\n",
       "    <tr>\n",
       "      <th>7038</th>\n",
       "      <td>Male</td>\n",
       "      <td>0</td>\n",
       "      <td>Yes</td>\n",
       "      <td>Yes</td>\n",
       "      <td>24</td>\n",
       "      <td>Yes</td>\n",
       "      <td>Yes</td>\n",
       "      <td>No</td>\n",
       "      <td>Yes</td>\n",
       "      <td>Yes</td>\n",
       "      <td>Yes</td>\n",
       "      <td>Yes</td>\n",
       "      <td>One year</td>\n",
       "      <td>84.80</td>\n",
       "      <td>1990.5</td>\n",
       "      <td>No</td>\n",
       "    </tr>\n",
       "    <tr>\n",
       "      <th>7039</th>\n",
       "      <td>Female</td>\n",
       "      <td>0</td>\n",
       "      <td>Yes</td>\n",
       "      <td>Yes</td>\n",
       "      <td>72</td>\n",
       "      <td>Yes</td>\n",
       "      <td>No</td>\n",
       "      <td>Yes</td>\n",
       "      <td>Yes</td>\n",
       "      <td>No</td>\n",
       "      <td>Yes</td>\n",
       "      <td>Yes</td>\n",
       "      <td>One year</td>\n",
       "      <td>103.20</td>\n",
       "      <td>7362.9</td>\n",
       "      <td>No</td>\n",
       "    </tr>\n",
       "    <tr>\n",
       "      <th>7040</th>\n",
       "      <td>Female</td>\n",
       "      <td>0</td>\n",
       "      <td>Yes</td>\n",
       "      <td>Yes</td>\n",
       "      <td>11</td>\n",
       "      <td>No</td>\n",
       "      <td>Yes</td>\n",
       "      <td>No</td>\n",
       "      <td>No</td>\n",
       "      <td>No</td>\n",
       "      <td>No</td>\n",
       "      <td>No</td>\n",
       "      <td>Month-to-month</td>\n",
       "      <td>29.60</td>\n",
       "      <td>346.45</td>\n",
       "      <td>No</td>\n",
       "    </tr>\n",
       "    <tr>\n",
       "      <th>7041</th>\n",
       "      <td>Male</td>\n",
       "      <td>1</td>\n",
       "      <td>Yes</td>\n",
       "      <td>No</td>\n",
       "      <td>4</td>\n",
       "      <td>Yes</td>\n",
       "      <td>No</td>\n",
       "      <td>No</td>\n",
       "      <td>No</td>\n",
       "      <td>No</td>\n",
       "      <td>No</td>\n",
       "      <td>No</td>\n",
       "      <td>Month-to-month</td>\n",
       "      <td>74.40</td>\n",
       "      <td>306.6</td>\n",
       "      <td>Yes</td>\n",
       "    </tr>\n",
       "    <tr>\n",
       "      <th>7042</th>\n",
       "      <td>Male</td>\n",
       "      <td>0</td>\n",
       "      <td>No</td>\n",
       "      <td>No</td>\n",
       "      <td>66</td>\n",
       "      <td>Yes</td>\n",
       "      <td>Yes</td>\n",
       "      <td>No</td>\n",
       "      <td>Yes</td>\n",
       "      <td>Yes</td>\n",
       "      <td>Yes</td>\n",
       "      <td>Yes</td>\n",
       "      <td>Two year</td>\n",
       "      <td>105.65</td>\n",
       "      <td>6844.5</td>\n",
       "      <td>No</td>\n",
       "    </tr>\n",
       "  </tbody>\n",
       "</table>\n",
       "<p>7043 rows × 16 columns</p>\n",
       "</div>"
      ],
      "text/plain": [
       "      gender  SeniorCitizen Partner Dependents  tenure PhoneService  \\\n",
       "0     Female              0     Yes         No       1           No   \n",
       "1       Male              0      No         No      34          Yes   \n",
       "2       Male              0      No         No       2          Yes   \n",
       "3       Male              0      No         No      45           No   \n",
       "4     Female              0      No         No       2          Yes   \n",
       "...      ...            ...     ...        ...     ...          ...   \n",
       "7038    Male              0     Yes        Yes      24          Yes   \n",
       "7039  Female              0     Yes        Yes      72          Yes   \n",
       "7040  Female              0     Yes        Yes      11           No   \n",
       "7041    Male              1     Yes         No       4          Yes   \n",
       "7042    Male              0      No         No      66          Yes   \n",
       "\n",
       "     OnlineSecurity OnlineBackup DeviceProtection TechSupport StreamingTV  \\\n",
       "0                No          Yes               No          No          No   \n",
       "1               Yes           No              Yes          No          No   \n",
       "2               Yes          Yes               No          No          No   \n",
       "3               Yes           No              Yes         Yes          No   \n",
       "4                No           No               No          No          No   \n",
       "...             ...          ...              ...         ...         ...   \n",
       "7038            Yes           No              Yes         Yes         Yes   \n",
       "7039             No          Yes              Yes          No         Yes   \n",
       "7040            Yes           No               No          No          No   \n",
       "7041             No           No               No          No          No   \n",
       "7042            Yes           No              Yes         Yes         Yes   \n",
       "\n",
       "     StreamingMovies        Contract  MonthlyCharges TotalCharges Churn  \n",
       "0                 No  Month-to-month           29.85        29.85    No  \n",
       "1                 No        One year           56.95       1889.5    No  \n",
       "2                 No  Month-to-month           53.85       108.15   Yes  \n",
       "3                 No        One year           42.30      1840.75    No  \n",
       "4                 No  Month-to-month           70.70       151.65   Yes  \n",
       "...              ...             ...             ...          ...   ...  \n",
       "7038             Yes        One year           84.80       1990.5    No  \n",
       "7039             Yes        One year          103.20       7362.9    No  \n",
       "7040              No  Month-to-month           29.60       346.45    No  \n",
       "7041              No  Month-to-month           74.40        306.6   Yes  \n",
       "7042             Yes        Two year          105.65       6844.5    No  \n",
       "\n",
       "[7043 rows x 16 columns]"
      ]
     },
     "execution_count": 2,
     "metadata": {},
     "output_type": "execute_result"
    }
   ],
   "source": [
    "# loading the data\n",
    "churnData = pd.read_csv(\"files_for_lab/Customer-Churn.csv\")\n",
    "churnData"
   ]
  },
  {
   "cell_type": "markdown",
   "id": "0601e3c7",
   "metadata": {},
   "source": [
    "## EDA"
   ]
  },
  {
   "cell_type": "code",
   "execution_count": 3,
   "id": "1eb3385b",
   "metadata": {},
   "outputs": [
    {
     "name": "stdout",
     "output_type": "stream",
     "text": [
      "<class 'pandas.core.frame.DataFrame'>\n",
      "RangeIndex: 7043 entries, 0 to 7042\n",
      "Data columns (total 16 columns):\n",
      " #   Column            Non-Null Count  Dtype  \n",
      "---  ------            --------------  -----  \n",
      " 0   gender            7043 non-null   object \n",
      " 1   SeniorCitizen     7043 non-null   int64  \n",
      " 2   Partner           7043 non-null   object \n",
      " 3   Dependents        7043 non-null   object \n",
      " 4   tenure            7043 non-null   int64  \n",
      " 5   PhoneService      7043 non-null   object \n",
      " 6   OnlineSecurity    7043 non-null   object \n",
      " 7   OnlineBackup      7043 non-null   object \n",
      " 8   DeviceProtection  7043 non-null   object \n",
      " 9   TechSupport       7043 non-null   object \n",
      " 10  StreamingTV       7043 non-null   object \n",
      " 11  StreamingMovies   7043 non-null   object \n",
      " 12  Contract          7043 non-null   object \n",
      " 13  MonthlyCharges    7043 non-null   float64\n",
      " 14  TotalCharges      7043 non-null   object \n",
      " 15  Churn             7043 non-null   object \n",
      "dtypes: float64(1), int64(2), object(13)\n",
      "memory usage: 880.5+ KB\n"
     ]
    }
   ],
   "source": [
    "# checking data types\n",
    "\n",
    "churnData.info()"
   ]
  },
  {
   "cell_type": "code",
   "execution_count": 4,
   "id": "d08f7418",
   "metadata": {},
   "outputs": [
    {
     "data": {
      "text/plain": [
       "          11\n",
       "20.2      11\n",
       "19.75      9\n",
       "20.05      8\n",
       "19.9       8\n",
       "          ..\n",
       "6849.4     1\n",
       "692.35     1\n",
       "130.15     1\n",
       "3211.9     1\n",
       "6844.5     1\n",
       "Name: TotalCharges, Length: 6531, dtype: int64"
      ]
     },
     "execution_count": 4,
     "metadata": {},
     "output_type": "execute_result"
    }
   ],
   "source": [
    "# checking a bit more the total charges feature\n",
    "\n",
    "churnData.TotalCharges.value_counts()"
   ]
  },
  {
   "cell_type": "code",
   "execution_count": 5,
   "id": "c4c3a230",
   "metadata": {},
   "outputs": [],
   "source": [
    "# changing datatype from object to numeric\n",
    "\n",
    "churnData[\"TotalCharges\"] = pd.to_numeric(churnData.TotalCharges, errors ='coerce')"
   ]
  },
  {
   "cell_type": "markdown",
   "id": "098e2271",
   "metadata": {},
   "source": [
    "### Null Values"
   ]
  },
  {
   "cell_type": "code",
   "execution_count": 6,
   "id": "62e449cd",
   "metadata": {},
   "outputs": [
    {
     "data": {
      "text/plain": [
       "gender               0\n",
       "SeniorCitizen        0\n",
       "Partner              0\n",
       "Dependents           0\n",
       "tenure               0\n",
       "PhoneService         0\n",
       "OnlineSecurity       0\n",
       "OnlineBackup         0\n",
       "DeviceProtection     0\n",
       "TechSupport          0\n",
       "StreamingTV          0\n",
       "StreamingMovies      0\n",
       "Contract             0\n",
       "MonthlyCharges       0\n",
       "TotalCharges        11\n",
       "Churn                0\n",
       "dtype: int64"
      ]
     },
     "execution_count": 6,
     "metadata": {},
     "output_type": "execute_result"
    }
   ],
   "source": [
    "churnData.isna().sum()"
   ]
  },
  {
   "cell_type": "code",
   "execution_count": 7,
   "id": "681c3878",
   "metadata": {},
   "outputs": [
    {
     "data": {
      "text/plain": [
       "0.001561834445548772"
      ]
     },
     "execution_count": 7,
     "metadata": {},
     "output_type": "execute_result"
    }
   ],
   "source": [
    "churnData['TotalCharges'].isna().sum() / len(churnData)\n",
    "\n",
    "# since the nans represent such a small percentage we can just replace them with the mean \n",
    "# without really affecting datapoint distribution too much."
   ]
  },
  {
   "cell_type": "code",
   "execution_count": 8,
   "id": "5ee04842",
   "metadata": {},
   "outputs": [],
   "source": [
    "# we replace nans here\n",
    "churnData['TotalCharges'] = churnData['TotalCharges'].replace(np.nan, churnData['TotalCharges'].mean())"
   ]
  },
  {
   "cell_type": "code",
   "execution_count": 9,
   "id": "ab0a8301",
   "metadata": {},
   "outputs": [
    {
     "data": {
      "text/plain": [
       "gender              0\n",
       "SeniorCitizen       0\n",
       "Partner             0\n",
       "Dependents          0\n",
       "tenure              0\n",
       "PhoneService        0\n",
       "OnlineSecurity      0\n",
       "OnlineBackup        0\n",
       "DeviceProtection    0\n",
       "TechSupport         0\n",
       "StreamingTV         0\n",
       "StreamingMovies     0\n",
       "Contract            0\n",
       "MonthlyCharges      0\n",
       "TotalCharges        0\n",
       "Churn               0\n",
       "dtype: int64"
      ]
     },
     "execution_count": 9,
     "metadata": {},
     "output_type": "execute_result"
    }
   ],
   "source": [
    "# sanity check\n",
    "churnData.isna().sum()"
   ]
  },
  {
   "cell_type": "markdown",
   "id": "44037288",
   "metadata": {},
   "source": [
    "## Fearture Selection & Train/Test Split"
   ]
  },
  {
   "cell_type": "code",
   "execution_count": 10,
   "id": "040b4328",
   "metadata": {},
   "outputs": [],
   "source": [
    "features = ['tenure', 'SeniorCitizen', 'MonthlyCharges', 'TotalCharges']\n",
    "\n",
    "X = pd.DataFrame(data=churnData, columns=features)\n",
    "y = pd.DataFrame(data=churnData, columns=['Churn'])"
   ]
  },
  {
   "cell_type": "code",
   "execution_count": 11,
   "id": "8175cb34",
   "metadata": {},
   "outputs": [
    {
     "data": {
      "text/plain": [
       "(   tenure  SeniorCitizen  MonthlyCharges  TotalCharges\n",
       " 0       1              0           29.85         29.85\n",
       " 1      34              0           56.95       1889.50\n",
       " 2       2              0           53.85        108.15\n",
       " 3      45              0           42.30       1840.75\n",
       " 4       2              0           70.70        151.65,\n",
       "   Churn\n",
       " 0    No\n",
       " 1    No\n",
       " 2   Yes\n",
       " 3    No\n",
       " 4   Yes)"
      ]
     },
     "execution_count": 11,
     "metadata": {},
     "output_type": "execute_result"
    }
   ],
   "source": [
    "X.head(), y.head() # sanity check"
   ]
  },
  {
   "cell_type": "code",
   "execution_count": 12,
   "id": "34b28371",
   "metadata": {},
   "outputs": [
    {
     "name": "stderr",
     "output_type": "stream",
     "text": [
      "C:\\Users\\lazar\\anaconda3\\lib\\site-packages\\sklearn\\preprocessing\\_label.py:115: DataConversionWarning: A column-vector y was passed when a 1d array was expected. Please change the shape of y to (n_samples, ), for example using ravel().\n",
      "  y = column_or_1d(y, warn=True)\n"
     ]
    }
   ],
   "source": [
    "# encoding y\n",
    "\n",
    "from sklearn import preprocessing\n",
    "\n",
    "encoder = preprocessing.LabelEncoder()\n",
    "y = encoder.fit_transform(y)"
   ]
  },
  {
   "cell_type": "code",
   "execution_count": 13,
   "id": "14c527fe",
   "metadata": {},
   "outputs": [],
   "source": [
    "# train test split\n",
    "\n",
    "from sklearn.model_selection import train_test_split\n",
    "\n",
    "X_train,X_test,y_train,y_test = train_test_split(X,y, test_size = 0.20, random_state = 42)"
   ]
  },
  {
   "cell_type": "markdown",
   "id": "75dbb1c2",
   "metadata": {},
   "source": [
    "## Logistic Regression"
   ]
  },
  {
   "cell_type": "code",
   "execution_count": 14,
   "id": "877fee26",
   "metadata": {},
   "outputs": [],
   "source": [
    "# creating function for scaling and modeling\n",
    "\n",
    "def model(scaler, model, X_train, X_test, y_train, y_test):\n",
    "    X_train = scaler.fit_transform(X_train)\n",
    "    X_test = scaler.transform(X_test)\n",
    "    model.fit(X_train,y_train)\n",
    "    pred_train = model.predict(X_train)\n",
    "    pred_test = model.predict(X_test)\n",
    "    print(\"Accuracy on train set: \", round(accuracy_score(y_train, pred_train),4))\n",
    "    print(\"Accuracy on test set: \", round(accuracy_score(y_test, pred_test),4))\n",
    "    print(\"F1 on train set: \", round(f1_score(y_train, pred_train),4))\n",
    "    print(\"F1 on test set: \", round(f1_score(y_test, pred_test),4))"
   ]
  },
  {
   "cell_type": "code",
   "execution_count": 15,
   "id": "18c817ee",
   "metadata": {},
   "outputs": [
    {
     "name": "stdout",
     "output_type": "stream",
     "text": [
      "Accuracy on train set:  0.7875\n",
      "Accuracy on test set:  0.8077\n",
      "F1 on train set:  0.5256\n",
      "F1 on test set:  0.5692\n"
     ]
    }
   ],
   "source": [
    "# importing necessary libraries\n",
    "\n",
    "from sklearn.preprocessing import StandardScaler\n",
    "from sklearn.linear_model import LogisticRegression\n",
    "from sklearn.metrics import accuracy_score,f1_score\n",
    "\n",
    "LogReg = LogisticRegression()\n",
    "scaler = StandardScaler()\n",
    "\n",
    "model(scaler, LogReg, X_train, X_test, y_train, y_test)"
   ]
  },
  {
   "cell_type": "markdown",
   "id": "9e4a62ba",
   "metadata": {},
   "source": [
    "**Comment:** Accuracy on test data is roughly 80%, with low F1 scores. This model is also slightly underfitting which would indicate that this basic logistic regression model might be slghtly too simplistic for the data. This can be mitigated in multiple ways. Up until now we have kept the imbalance of the data. We focus on that next."
   ]
  },
  {
   "cell_type": "markdown",
   "id": "968b614b",
   "metadata": {},
   "source": [
    "## Imbalance of Data"
   ]
  },
  {
   "cell_type": "code",
   "execution_count": 16,
   "id": "b876c958",
   "metadata": {},
   "outputs": [
    {
     "data": {
      "text/plain": [
       "No     0.73463\n",
       "Yes    0.26537\n",
       "Name: Churn, dtype: float64"
      ]
     },
     "execution_count": 16,
     "metadata": {},
     "output_type": "execute_result"
    }
   ],
   "source": [
    "churnData['Churn'].value_counts(normalize=True)"
   ]
  },
  {
   "cell_type": "code",
   "execution_count": 17,
   "id": "e1db8f12",
   "metadata": {},
   "outputs": [],
   "source": [
    "# Answers for no account for about 73% of responses while for yes that's about 27% only. The target variable is clearly imbalanced."
   ]
  },
  {
   "cell_type": "markdown",
   "id": "a4764295",
   "metadata": {},
   "source": [
    "# Oversampling: SMOTE & ADASYN"
   ]
  },
  {
   "cell_type": "code",
   "execution_count": 18,
   "id": "c3adf78f",
   "metadata": {},
   "outputs": [
    {
     "name": "stdout",
     "output_type": "stream",
     "text": [
      "Best accuracy:  0.7977288857345636  at K  24\n"
     ]
    },
    {
     "data": {
      "image/png": "[encoded data removed]",
      "text/plain": [
       "<Figure size 1080x504 with 1 Axes>"
      ]
     },
     "metadata": {
      "needs_background": "light"
     },
     "output_type": "display_data"
    }
   ],
   "source": [
    "# since we're trying to improve the scores we have already it makes sense to find the best k_neighbor value for SMOTE.\n",
    "# we'll use a kneighbor classifier to do that\n",
    "\n",
    "from sklearn.neighbors import KNeighborsClassifier\n",
    "accuracy = []\n",
    "\n",
    "for neighbor in range(1,100):\n",
    "    knn= KNeighborsClassifier(n_neighbors=neighbor)\n",
    "    knn.fit(X_train,y_train)\n",
    "    y_pred = knn.predict(X_test)\n",
    "    accuracy.append(accuracy_score(y_test, y_pred))\n",
    "    \n",
    "    \n",
    "plt.figure(figsize=(15,7))\n",
    "plt.plot(range(1,100), accuracy, color=\"#0072BD\", linestyle=\"dotted\",\n",
    "         marker = \"d\", markerfacecolor=\"#A2142F\", markersize=10)\n",
    "plt.title(\"Accuracy for best K value\")\n",
    "plt.xlabel(\"K iteration\")\n",
    "plt.ylabel(\"Accuracy\")\n",
    "print(\"Best accuracy: \", max(accuracy), \" at K \", accuracy.index(max(accuracy))+1)"
   ]
  },
  {
   "cell_type": "code",
   "execution_count": 19,
   "id": "e20d4c03",
   "metadata": {},
   "outputs": [],
   "source": [
    "# implementing SMOTE & ADASYN\n",
    "\n",
    "from imblearn.over_sampling import SMOTE, ADASYN\n",
    "\n",
    "smote = SMOTE(k_neighbors = 24)\n",
    "X_train_SMOTE,y_train_SMOTE = smote.fit_resample(X_train,y_train)\n",
    "\n",
    "\n",
    "adasyn = ADASYN(n_neighbors = 24)\n",
    "X_train_ADASYN,y_train_ADASYN = adasyn.fit_resample(X_train,y_train)"
   ]
  },
  {
   "cell_type": "code",
   "execution_count": 20,
   "id": "0d19daa2",
   "metadata": {},
   "outputs": [
    {
     "name": "stdout",
     "output_type": "stream",
     "text": [
      "Accuracy on train set:  0.7243\n",
      "Accuracy on test set:  0.7417\n",
      "F1 on train set:  0.7262\n",
      "F1 on test set:  0.6078\n"
     ]
    }
   ],
   "source": [
    "# implementing logistic regression with SMOTE oversampling\n",
    "\n",
    "model(scaler, LogReg, X_train_SMOTE, X_test, y_train_SMOTE, y_test)"
   ]
  },
  {
   "cell_type": "code",
   "execution_count": 21,
   "id": "ba2d22aa",
   "metadata": {},
   "outputs": [
    {
     "name": "stdout",
     "output_type": "stream",
     "text": [
      "Accuracy on train set:  0.6978\n",
      "Accuracy on test set:  0.7303\n",
      "F1 on train set:  0.7004\n",
      "F1 on test set:  0.605\n"
     ]
    }
   ],
   "source": [
    "# implementing logistic regression with ADASYN oversampling\n",
    "\n",
    "model(scaler, LogReg, X_train_ADASYN, X_test, y_train_ADASYN, y_test)"
   ]
  },
  {
   "cell_type": "markdown",
   "id": "91693924",
   "metadata": {},
   "source": [
    "**Comment:** Both SMOTE and ADASYN produce accuracy scores lower than our original Logistic Regression model."
   ]
  },
  {
   "cell_type": "markdown",
   "id": "d05a998d",
   "metadata": {},
   "source": [
    "# Undersampling: TomekLinks & One Sided Selection"
   ]
  },
  {
   "cell_type": "code",
   "execution_count": 22,
   "id": "6a4db5de",
   "metadata": {},
   "outputs": [],
   "source": [
    "from imblearn.under_sampling import TomekLinks\n",
    "from imblearn.under_sampling import OneSidedSelection # uses tomeklinks to remove noisy samples\n",
    "\n",
    "tomek = TomekLinks()\n",
    "X_train_tomek, y_train_tomek = tomek.fit_resample(X_train,y_train)\n",
    "\n",
    "oss = OneSidedSelection(random_state=0)\n",
    "X_train_oss, y_train_oss = oss.fit_resample(X_train,y_train)"
   ]
  },
  {
   "cell_type": "code",
   "execution_count": 23,
   "id": "6cd69ac2",
   "metadata": {},
   "outputs": [
    {
     "name": "stdout",
     "output_type": "stream",
     "text": [
      "Accuracy on train set:  0.788\n",
      "Accuracy on test set:  0.7921\n",
      "F1 on train set:  0.5864\n",
      "F1 on test set:  0.5867\n"
     ]
    }
   ],
   "source": [
    "# implementing logistic regression with TomekLinks undersampling\n",
    "\n",
    "model(scaler, LogReg, X_train_tomek, X_test, y_train_tomek, y_test)"
   ]
  },
  {
   "cell_type": "code",
   "execution_count": 24,
   "id": "35d1e43e",
   "metadata": {},
   "outputs": [
    {
     "name": "stdout",
     "output_type": "stream",
     "text": [
      "Accuracy on train set:  0.7877\n",
      "Accuracy on test set:  0.7921\n",
      "F1 on train set:  0.586\n",
      "F1 on test set:  0.5867\n"
     ]
    }
   ],
   "source": [
    "# implementing logistic regression with One sided selection undersampling\n",
    "\n",
    "model(scaler, LogReg, X_train_oss, X_test, y_train_oss, y_test)"
   ]
  },
  {
   "cell_type": "markdown",
   "id": "3fc29cb5",
   "metadata": {},
   "source": [
    "**Comment:** Both undersampling techniques are performing very close to our original Logistic Regression model. Also both algorithms produce almost identical results which might indicate that the data hasn't been particularly \"noisy\" to begin with."
   ]
  },
  {
   "cell_type": "markdown",
   "id": "29574544",
   "metadata": {},
   "source": [
    "# Weighted Logistic Regression"
   ]
  },
  {
   "cell_type": "code",
   "execution_count": 33,
   "id": "00504c6d",
   "metadata": {},
   "outputs": [
    {
     "name": "stdout",
     "output_type": "stream",
     "text": [
      "              precision    recall  f1-score   support\n",
      "\n",
      "           0       0.82      0.91      0.86      4138\n",
      "           1       0.65      0.44      0.53      1496\n",
      "\n",
      "    accuracy                           0.79      5634\n",
      "   macro avg       0.73      0.68      0.69      5634\n",
      "weighted avg       0.77      0.79      0.77      5634\n",
      "\n",
      "              precision    recall  f1-score   support\n",
      "\n",
      "           0       0.83      0.93      0.88      1036\n",
      "           1       0.70      0.48      0.57       373\n",
      "\n",
      "    accuracy                           0.81      1409\n",
      "   macro avg       0.77      0.70      0.72      1409\n",
      "weighted avg       0.80      0.81      0.79      1409\n",
      "\n"
     ]
    }
   ],
   "source": [
    "from sklearn.metrics import classification_report\n",
    "\n",
    "# getting the classification report from our baseline logistic regression model\n",
    "\n",
    "LogReg = LogisticRegression()\n",
    "X_train = scaler.fit_transform(X_train)\n",
    "X_test = scaler.transform(X_test)\n",
    "LogReg.fit(X_train,y_train)\n",
    "pred_train = LogReg.predict(X_train)\n",
    "pred_test = LogReg.predict(X_test)\n",
    "print(classification_report(y_train, pred_train))\n",
    "print(classification_report(y_test, pred_test))"
   ]
  },
  {
   "cell_type": "code",
   "execution_count": 26,
   "id": "8f20dc5a",
   "metadata": {},
   "outputs": [
    {
     "data": {
      "text/plain": [
       "(1.361527307878202, 3.766042780748663)"
      ]
     },
     "execution_count": 26,
     "metadata": {},
     "output_type": "execute_result"
    }
   ],
   "source": [
    "# calculating weights for class 0 and 1\n",
    "weight_0 = 5634/4138\n",
    "weight_1 = 5634/1496\n",
    "\n",
    "weight_0, weight_1"
   ]
  },
  {
   "cell_type": "code",
   "execution_count": 27,
   "id": "40de906a",
   "metadata": {},
   "outputs": [],
   "source": [
    "# weighted logistic regression for balanced weights\n",
    "\n",
    "weights = {0:1.3, 1:3.7}\n",
    "\n",
    "LogReg_Weighted = LogisticRegression(class_weight = weights)"
   ]
  },
  {
   "cell_type": "code",
   "execution_count": 28,
   "id": "5b0a2ee1",
   "metadata": {},
   "outputs": [
    {
     "name": "stdout",
     "output_type": "stream",
     "text": [
      "Accuracy on train set:  0.7213\n",
      "Accuracy on test set:  0.7402\n",
      "F1 on train set:  0.5866\n",
      "F1 on test set:  0.6131\n"
     ]
    }
   ],
   "source": [
    "model(scaler, LogReg_Weighted, X_train, X_test, y_train, y_test)"
   ]
  },
  {
   "cell_type": "code",
   "execution_count": 46,
   "id": "963d7c8a",
   "metadata": {},
   "outputs": [],
   "source": [
    "# weighted logistic regression favoring class 1\n",
    "\n",
    "weights2 = {0:1.3, 1:5}\n",
    "\n",
    "LogReg_Weighted_2 = LogisticRegression(class_weight = weights2)\n",
    "\n",
    "# tried some combinations of different weights"
   ]
  },
  {
   "cell_type": "code",
   "execution_count": 47,
   "id": "e516c369",
   "metadata": {},
   "outputs": [
    {
     "name": "stdout",
     "output_type": "stream",
     "text": [
      "Accuracy on train set:  0.6784\n",
      "Accuracy on test set:  0.6877\n",
      "F1 on train set:  0.5798\n",
      "F1 on test set:  0.5985\n"
     ]
    }
   ],
   "source": [
    "model(scaler, LogReg_Weighted_2, X_train, X_test, y_train, y_test)"
   ]
  },
  {
   "cell_type": "markdown",
   "id": "babcc494",
   "metadata": {},
   "source": [
    "**Comment:** After finding the class weights of the target variable our new weighted model actually underperforms in terms of accuracy compared to our baseline logistic regression model. This means that undersampling techniques and our baseline logistic regression perform the best in terms of accuracy. Sometimes less *is* more."
   ]
  }
 ],
 "metadata": {
  "kernelspec": {
   "display_name": "Python 3 (ipykernel)",
   "language": "python",
   "name": "python3"
  },
  "language_info": {
   "codemirror_mode": {
    "name": "ipython",
    "version": 3
   },
   "file_extension": ".py",
   "mimetype": "text/x-python",
   "name": "python",
   "nbconvert_exporter": "python",
   "pygments_lexer": "ipython3",
   "version": "3.9.12"
  }
 },
 "nbformat": 4,
 "nbformat_minor": 5
}
